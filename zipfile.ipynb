{
  "nbformat": 4,
  "nbformat_minor": 0,
  "metadata": {
    "kernelspec": {
      "display_name": "Python 3",
      "language": "python",
      "name": "python3"
    },
    "language_info": {
      "codemirror_mode": {
        "name": "ipython",
        "version": 3
      },
      "file_extension": ".py",
      "mimetype": "text/x-python",
      "name": "python",
      "nbconvert_exporter": "python",
      "pygments_lexer": "ipython3",
      "version": "3.6.8"
    },
    "colab": {
      "name": "zipfile.ipynb",
      "provenance": []
    }
  },
  "cells": [
    {
      "cell_type": "code",
      "metadata": {
        "id": "mjLxuOVle7z2",
        "colab_type": "code",
        "colab": {}
      },
      "source": [
        "import numpy as np\n",
        "import pandas as pd\n",
        "import seaborn as sns\n",
        "sns.set(style='darkgrid')\n",
        "import matplotlib.pyplot as plt\n",
        "import zipfile"
      ],
      "execution_count": null,
      "outputs": []
    },
    {
      "cell_type": "code",
      "metadata": {
        "id": "dzck96Xne70M",
        "colab_type": "code",
        "colab": {},
        "outputId": "29aaf072-cdf4-4f11-fff4-e37372d60ee7"
      },
      "source": [
        "from zipfile import ZipFile \n",
        "  \n",
        "    \n",
        "file_name = \"load-forecasting-resnet-master.zip\" \n",
        "with ZipFile(file_name, 'r') as zip:  \n",
        "    zip.printdir() \n",
        "    zip.extractall() "
      ],
      "execution_count": null,
      "outputs": [
        {
          "output_type": "stream",
          "text": [
            "File Name                                             Modified             Size\n",
            "load-forecasting-resnet-master/                2019-05-12 01:12:38            0\n",
            "load-forecasting-resnet-master/ISO-NE/         2019-05-12 01:12:38            0\n",
            "load-forecasting-resnet-master/ISO-NE/ResNetPlus_ISONE.py 2019-05-12 01:12:38        29331\n",
            "load-forecasting-resnet-master/ISO-NE/complete11_weights.h5 2019-05-12 01:12:38      2528280\n",
            "load-forecasting-resnet-master/ISO-NE/complete12_weights.h5 2019-05-12 01:12:38      2528280\n",
            "load-forecasting-resnet-master/ISO-NE/complete13_weights.h5 2019-05-12 01:12:38      2528280\n",
            "load-forecasting-resnet-master/ISO-NE/complete21_weights.h5 2019-05-12 01:12:38      2528280\n",
            "load-forecasting-resnet-master/ISO-NE/complete22_weights.h5 2019-05-12 01:12:38      2528280\n",
            "load-forecasting-resnet-master/ISO-NE/complete23_weights.h5 2019-05-12 01:12:38      2528280\n",
            "load-forecasting-resnet-master/ISO-NE/model.h5 2019-05-12 01:12:38      2528280\n",
            "load-forecasting-resnet-master/ISO-NE/results.h5 2019-05-12 01:12:38       212288\n",
            "load-forecasting-resnet-master/ISO-NE/selected_data_ISONE.csv 2019-05-12 01:12:38      3476065\n",
            "load-forecasting-resnet-master/ISO-NE/selected_data_ISONE_sample.csv 2019-05-12 01:12:38         5511\n",
            "load-forecasting-resnet-master/LICENSE         2019-05-12 01:12:38         1068\n",
            "load-forecasting-resnet-master/README.md       2019-05-12 01:12:38          829\n"
          ],
          "name": "stdout"
        }
      ]
    },
    {
      "cell_type": "code",
      "metadata": {
        "id": "DZINKTj_e70d",
        "colab_type": "code",
        "colab": {}
      },
      "source": [
        ""
      ],
      "execution_count": null,
      "outputs": []
    }
  ]
}